{
 "cells": [
  {
   "cell_type": "markdown",
   "metadata": {},
   "source": [
    "## Data Cleaning"
   ]
  },
  {
   "cell_type": "code",
   "execution_count": null,
   "metadata": {},
   "outputs": [],
   "source": [
    "# imports\n",
    "import numpy as np\n",
    "import pandas as pd"
   ]
  },
  {
   "cell_type": "code",
   "execution_count": null,
   "metadata": {},
   "outputs": [],
   "source": [
    "# read data sets\n",
    "df_imdb = pd.read_csv('IMDB-Movie-Data.csv')\n",
    "df_ML_id = pd.read_csv('movies.csv')\n",
    "df_ML_rating = pd.read_csv('ratings.csv')"
   ]
  },
  {
   "cell_type": "code",
   "execution_count": null,
   "metadata": {},
   "outputs": [],
   "source": [
    "# return the index of s in l if there is a match\n",
    "def checkExist(s, l):\n",
    "    for i in range (0, len(l)):\n",
    "        if (s in l[i]):\n",
    "            return i\n",
    "    return False"
   ]
  },
  {
   "cell_type": "code",
   "execution_count": null,
   "metadata": {},
   "outputs": [],
   "source": [
    "def dropOld(l):\n",
    "    for i in range (0, len(l)):\n",
    "        # get rid of the movies before 2000\n",
    "        if ('(19' in  l[i]):\n",
    "            l[i] = np.nan"
   ]
  },
  {
   "cell_type": "code",
   "execution_count": null,
   "metadata": {},
   "outputs": [],
   "source": [
    "# get title of movies, dropping the old ones (not contained in the imdb data frame)\n",
    "imdb_title = df_imdb['Title']\n",
    "#df_ML_id = df_ML_id['(19' in df_ML_id.title]\n",
    "df_ML_id[~df_ML_id['title'].str.contains('\\(19')]\n",
    "df_ML_id = df_ML_id.dropna(axis=0, how='any')"
   ]
  },
  {
   "cell_type": "code",
   "execution_count": null,
   "metadata": {},
   "outputs": [],
   "source": [
    "# insert a new column\n",
    "col_name = df_imdb.columns.tolist()\n",
    "col_name.insert(1,'ML_id')  \n",
    "df_imdb = df_imdb.reindex(columns=col_name)"
   ]
  },
  {
   "cell_type": "code",
   "execution_count": null,
   "metadata": {
    "scrolled": true
   },
   "outputs": [],
   "source": [
    "# get the columns\n",
    "df_ML_id = df_ML_id.reset_index(drop=True)\n",
    "imdb_titles = df_imdb['Title']"
   ]
  },
  {
   "cell_type": "code",
   "execution_count": null,
   "metadata": {},
   "outputs": [],
   "source": [
    "# add the ML id into the imdb dataframe\n",
    "for index in range (0, len(imdb_titles)):\n",
    "    id_index = checkExist(imdb_titles[index], df_ML_id['title'])\n",
    "    if (id_index != False):\n",
    "        mvid = df_ML_id.loc[id_index:id_index, 'movieId']\n",
    "        df_imdb.set_value(index, 'ML_id', mvid)"
   ]
  },
  {
   "cell_type": "code",
   "execution_count": null,
   "metadata": {
    "scrolled": true
   },
   "outputs": [],
   "source": [
    "# drop nan and insert a column for the ML_score\n",
    "df_imdb = df_imdb.dropna(axis=0, how='any')\n",
    "col_name = df_imdb.columns.tolist()\n",
    "col_name.insert(1,'ML_score')  \n",
    "df_imdb = df_imdb.reindex(columns=col_name)\n",
    "# add votes column\n",
    "col_name = df_imdb.columns.tolist()\n",
    "col_name.insert(1,'ML_votes')  \n",
    "df_imdb = df_imdb.reindex(columns=col_name)\n"
   ]
  },
  {
   "cell_type": "code",
   "execution_count": null,
   "metadata": {},
   "outputs": [],
   "source": [
    "# calculate score\n",
    "def calculateScore(movie_id, index):\n",
    "    id_rating= df_ML_rating[df_ML_rating['movieId'] == movie_id]\n",
    "    id_rating = id_rating.reset_index(drop=True)\n",
    "\n",
    "    df_imdb.set_value(index,'ML_votes',  len(id_rating))\n",
    "    \n",
    "    score_sum = id_rating.sum()['rating']\n",
    "    score = score_sum/len(id_rating['rating'])\n",
    "    df_imdb.set_value(index, 'ML_score', score*2)\n",
    "    \n",
    "    \n"
   ]
  },
  {
   "cell_type": "code",
   "execution_count": null,
   "metadata": {},
   "outputs": [],
   "source": [
    "df_imdb = df_imdb.reset_index(drop=True)\n",
    "ML_id = df_imdb['ML_id']\n",
    "for index in range (0, len(ML_id)):\n",
    "        calculateScore(ML_id[index], index)"
   ]
  },
  {
   "cell_type": "code",
   "execution_count": null,
   "metadata": {},
   "outputs": [],
   "source": [
    "df_imdb['Overall'] = (df_imdb.ML_score * df_imdb.ML_votes + df_imdb.Rating * df_imdb.Votes) / (df_imdb.Votes+df_imdb.ML_votes)"
   ]
  },
  {
   "cell_type": "code",
   "execution_count": null,
   "metadata": {},
   "outputs": [],
   "source": [
    "df_imdb"
   ]
  },
  {
   "cell_type": "code",
   "execution_count": null,
   "metadata": {},
   "outputs": [],
   "source": [
    "df_imdb.to_csv(\"integrated_data.csv\")"
   ]
  },
  {
   "cell_type": "code",
   "execution_count": null,
   "metadata": {},
   "outputs": [],
   "source": []
  }
 ],
 "metadata": {
  "kernelspec": {
   "display_name": "Python 3",
   "language": "python",
   "name": "python3"
  },
  "language_info": {
   "codemirror_mode": {
    "name": "ipython",
    "version": 3
   },
   "file_extension": ".py",
   "mimetype": "text/x-python",
   "name": "python",
   "nbconvert_exporter": "python",
   "pygments_lexer": "ipython3",
   "version": "3.6.4"
  }
 },
 "nbformat": 4,
 "nbformat_minor": 2
}
