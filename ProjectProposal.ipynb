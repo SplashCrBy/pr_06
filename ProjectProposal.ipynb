{
 "cells": [
  {
   "cell_type": "markdown",
   "metadata": {},
   "source": [
    "# COGS 108 - Project Proposal"
   ]
  },
  {
   "cell_type": "markdown",
   "metadata": {},
   "source": [
    "## Important\n",
    "\n",
    "- Make sure all group members (3-6 people) are listed in the group members section.\n",
    "- ONE, and only one, member of your group should upload this notebook to TritonED. \n",
    "- Each member of the group will receive the same grade on this assignment. \n",
    "- Keep the file name the same: submit the file 'ProjectProposal.ipynb'"
   ]
  },
  {
   "cell_type": "markdown",
   "metadata": {},
   "source": [
    "## Overview"
   ]
  },
  {
   "cell_type": "markdown",
   "metadata": {},
   "source": [
    "Read the project description and detailed instructions for this assignment in the 'ProjectOutline' document."
   ]
  },
  {
   "cell_type": "markdown",
   "metadata": {},
   "source": [
    "## Group Members: Fill in the Student IDs of each group member here\n",
    "\n",
    "Replace the lines below to list each persons full student ID. Add lines as needed for your group size, and make sure each ID is listed on a separate line. \n",
    "\n",
    "- A13628601\n",
    "- A14818302\n",
    "- A14419227\n",
    "- A14534893\n",
    "- A13370971\n",
    "- A92008073"
   ]
  },
  {
   "cell_type": "markdown",
   "metadata": {},
   "source": [
    "### Research Question\n",
    "\n",
    "What is your research question? (1-2 sentences)"
   ]
  },
  {
   "cell_type": "markdown",
   "metadata": {},
   "source": [
    "Is the revenue of popular movies in recent ten years propotional to rating on IMDB and MovieLens? How would other related factors affect the prediction of the revenue?"
   ]
  },
  {
   "cell_type": "markdown",
   "metadata": {},
   "source": [
    "### Hypothesis\n",
    "\n",
    "What is your main hypothesis and predictions? (2-3 sentences)"
   ]
  },
  {
   "cell_type": "markdown",
   "metadata": {},
   "source": [
    "The revenue of recent popular movies is propotional to rating on IMDB and MovieLens. The factors such as genres and directors also affect correlation between revenue and rating, thus a multiple regression would make a good prediction for revenue."
   ]
  },
  {
   "cell_type": "markdown",
   "metadata": {},
   "source": [
    "### Dataset(s)\n",
    "\n",
    "What data will you use to answer your question? Describe the dataset(s) in terms of number of observations, what kind of features it contains, etc. You must use at least one dataset containing at least approximately 1000 observations (if your data are smaller but you feel they are sufficient, email Prof. Voytek). You are welcome (and in fact recommended) to find multiple datasets! If you do so, describe each one, and briefly explain how you will combine them together. "
   ]
  },
  {
   "cell_type": "markdown",
   "metadata": {},
   "source": [
    "\n",
    "- Dataset Name: IMDB data from 2006 to 2016\n",
    "- Link to the dataset: https://www.kaggle.com/PromptCloudHQ/imdb-data/data\n",
    "- Number of observations: 1000\n",
    "\n",
    "Describtion of dataset: It is a dataset of 1000 most popular movies on IMDB, with title, genre, description, director, actors, year, runtime, rating, votes, revenue, and metascore. \n",
    "\n",
    "\n",
    "- Dataset Name: MovieLens Latest Dataset\n",
    "- Link to the dataset: https://grouplens.org/datasets/movielens/latest/\n",
    "- Number of observations: 700\n",
    "\n",
    "Describtion of dataset: a small dataset of ratings from users in MovieLens, including 100000 ratings and 1300 tag applications applied to 9000 movies by 700 users\n",
    "\n",
    "If you plan to use multiple datasets, add 1-2 sentences about how you plan to combine these datasets:\n",
    "\n",
    "We plan to merge the two datasets by the movie title, making use of the first dataset and the rating part of the second dataset.\n"
   ]
  },
  {
   "cell_type": "markdown",
   "metadata": {},
   "source": [
    "### Background and Prior Work\n",
    "\n",
    "Why is this question of interest, what background information led you to your hypothesis, and why is this important?\n",
    "\n",
    "Find some relevant prior work, and reference those sources. Even if you think you have a totally novel question, find the most similar prior work that you can and discuss how it relates to your project. \n",
    "\n",
    "References can be research publications, but they need not be. Blogs, github repositories, company websites, etc., are all viable references if they are relevant to your project.\n",
    "\n",
    "(2-3 paragraphs, including at least 2 references)"
   ]
  },
  {
   "cell_type": "markdown",
   "metadata": {},
   "source": [
    "\n",
    "Watching movie is a major entertainment for modern people. Movies provide people with amusement and excitement widely. As the movie industry developing swiftly, our group wonder what elements may influence the box office of movies. To general understanding, the movies receives good reviews also have high revenues.\n",
    "To study this issue and further explore the relationship between the revenue and rating of movies, we go through the dataset of IMDB, which includes 1,000 most popular movies in the last 10 years, and the MovieLens dataset with 700 records. The data fields included are: Title, Genre, Description, Director, Actors, Year, Runtime, Rating, Votes, Revenue, meta score. We begin to have a general sense that revenue is proportional to ratings most times. However, there are other factors involved in the linear proportion between revenue and rating. For instance, some genres such as horror movies may be produced for minority. Those movies can receive good reviews but unable to be a huge hit. As we further analyze the dataset, we may find other factors that influence the reviews and box office of movies.\n",
    "\n",
    "\n",
    "References (include links):\n",
    "- 1)Baron, C. (2006). Dinner and a Movie [Abstract]. Food, Culture & Society, 9(1), 93-117. doi:10.2752\n",
    " link: http://www.tandfonline.com/doi/abs/10.2752/155280106778055190\n",
    "- 2)Baker-harvey, H., Lin, T., & Meka, P. (2017, July 14). FinalProjects/COGS108-Sp17-PG034. \n",
    " link: https://github.com/COGS108/FinalProjects/blob/master/COGS108-Sp17-PG034.ipynb"
   ]
  },
  {
   "cell_type": "markdown",
   "metadata": {},
   "source": [
    "### Proposed Methods\n",
    "\n",
    "What methods will you use to analyze your data?\n",
    "\n",
    "- How 'clean' is the data? To the extent that it requires cleaning, how will you do so?\n",
    "- How will you analyze the data? Be as specific as you can. Briefly mention any pre-processing steps that are required for your methods (for example, checking data distributions and performing any transformations that may be required). Include a brief outline of how you will apply your chosen method(s). \n",
    "- What do you plan to report? Briefly mention any key visualizations you plan to create, and/or the kind of results you will be able to report that address your question (this could be, for example, the outcome of some statistical test(s), prediction error on a model, a model fit parameter, etc.).\n",
    "- Include a list of packages you expect to use for you project. If you plan to use packages we have not used in class, add a very brief description about them (a few words is sufficient). "
   ]
  },
  {
   "cell_type": "markdown",
   "metadata": {},
   "source": [
    "*Fill in your proposed methods information here:*\n",
    "\n",
    "*Data Cleaning (2-3 sentences)* and *Data Analysis (1-2 paragraphs)*\n",
    "\n",
    "We would like to especially concentrate on the correlation among the genre, director and revenue. Hence, we will drop other columns from the dataset we find and build two table to contrast the difference between two different sources which introduce same sort of data to ensure the curation of statistics. \n",
    "Besides, we will discard some outliers based on some standards. For instance, some movies may only have hundreds of evaluations which are not enough to reflect public views about the movies. Therefore, we will try to visualize the dataset in multiple ways to check if there are any kinds of outliers and deal with them correspondingly. After that, we will merge these two table into one for further data prediction.\n",
    "Next, we will build a model based on the data we have collected in the table so that we can deduct a conclusion according to the model.\n",
    "\n",
    "*What to report (2-3 sentences)*\n",
    "\n",
    "The data about whether there exists correlation between revenue and rating of movies generally. Moreover, we may show other graphs indicating potential factors mentioned above which may have influences on rating. Finally, we will build a model to analyze whether a movie will be \"succeed\" based on its attributes.\n",
    "\n",
    "Packages we plan to use:\n",
    "- a pandas\n",
    "- b numpy\n",
    "- c BeautifulSoup\n",
    "- d Bokeh (a interactive plotting lib with good looking)"
   ]
  },
  {
   "cell_type": "markdown",
   "metadata": {},
   "source": [
    "### Ethics and Privacy\n",
    "\n",
    "Briefly acknowledge and address any potential issues of ethics and privacy for the proposed project. In particular:\n",
    "- Do you have permission to use this data, for this purpose?\n",
    "- Are there privacy concerns regarding your datasets that you need to deal with, and/or terms of use that you need to comply with?\n",
    "- Are there potential biases in your dataset(s), in terms of who it composes, and how it was collected, that may be problematic in terms of it allowing for equitable analysis? (For example, does your data exclude particular populations, or is it likely to reflect particular human biases in a way that could be a problem?) \n",
    "- Are there any other issues related to your topic area, data, and/or analyses that are potentially problematic in terms of data privacy and equitable impact?\n",
    "- How will you handle any issues you identify?\n",
    "\n",
    "(1-2 paragraphs)\n",
    "\n",
    "The first dataset is from open-accessing website Kaggle and collected from public data provider(movie review websites). The authors of the second dataset permit the use of the dataset for any research purpose with certain conditions, which we would not violate. Moreover, the datasets we use contain no personal information. Also there is no other ethics concern.\n",
    "\n",
    "However, since the data were collected from certain websites, it is possible that the results only reflect the views of the users from the websites, which could be biased in terms of representing general public ideas of the movies. Using dataset from single source of user group might be unappropriate to judge the reputation of the movies. To resolve the potential bias, we try to pull data from two major movie review websites, IMDB and MovieLens, in order to increase the diversity of user group. Although the user group of a major movie review website is large enough to reduce biases from individual differences, using data from two websites can still improve the diversity of the user group.\n"
   ]
  },
  {
   "cell_type": "markdown",
   "metadata": {},
   "source": [
    "### Discussion\n",
    "\n",
    "Discuss your project, looking forward to what your results might mean, how they fit it in with what is already known, and what problems you may encounter. \n",
    "\n",
    "In particular:\n",
    "- If your analyses and hypotheses are correct, what will be the contribution of this project to the topic domain? \n",
    "- Alternatively, what will you do if you methods don't work and/or your hypotheses are wrong? \n",
    "- What are the potential pitfalls and potential confounds of your data and/or methods that may cause problems, and/or influence your interpretations?\n",
    "\n",
    "(2-3 paragraphs)"
   ]
  },
  {
   "cell_type": "markdown",
   "metadata": {},
   "source": [
    "After our research and analysis on our datasets, if we find that the result matches our hypothesis, which means our hypothesis is correct, we will be able to provide a verification that ratings on films can give reliable reflections on economic values of films. Such verification can offer valuable assistance to guidelines on film industry about how to create a balance between film quality,which is reflected by ratings, and economic values, which can be shown by revenue.\n",
    "\n",
    "If our methods or hypothesis get wrong, we will analyze potential sources of errors that can place other angles on our topics, which can improve our research and make the conclusion of our project more precise and constructive.\n",
    "\n",
    "Firstly, there might be possible factors, such as popularity of certain actor,that we can not take into consideration, which can influence the correlation among varibales we study. Secondly, the fidelity of data we collect from databases can be reduced by users personal preferences and bias."
   ]
  }
 ],
 "metadata": {
  "kernelspec": {
   "display_name": "Python 3",
   "language": "python",
   "name": "python3"
  },
  "language_info": {
   "codemirror_mode": {
    "name": "ipython",
    "version": 3
   },
   "file_extension": ".py",
   "mimetype": "text/x-python",
   "name": "python",
   "nbconvert_exporter": "python",
   "pygments_lexer": "ipython3",
   "version": "3.6.3"
  }
 },
 "nbformat": 4,
 "nbformat_minor": 2
}
